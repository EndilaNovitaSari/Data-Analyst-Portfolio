{
  "nbformat": 4,
  "nbformat_minor": 0,
  "metadata": {
    "colab": {
      "name": "Pocahontas",
      "provenance": [],
      "mount_file_id": "1k4b2MZ8IqB-9CoET3imZkPXBPhTVuUzd",
      "authorship_tag": "ABX9TyOmg/l3Cw4glAlYYoxXmV1J"
    },
    "kernelspec": {
      "name": "python3",
      "display_name": "Python 3"
    },
    "language_info": {
      "name": "python"
    }
  },
  "cells": [
    {
      "cell_type": "markdown",
      "source": [
        "#Tools:\n",
        "1. Google Bigquery: to filter the data\n",
        "2. Google Colab: to clean the data\n",
        "3. Google Data Studio: to visualize the data\n",
        "\n",
        "#Table of interest:  \n",
        "`bigquery-public-data.iowa_liquor_sales.sales`"
      ],
      "metadata": {
        "id": "_EjLBrdS1Tmh"
      }
    },
    {
      "cell_type": "markdown",
      "source": [
        "#Defining the Problems\n",
        "This case study will focus on Pocahontas county.\n",
        "1. How many cities that have liquor stores? Which city that have most liquor stores? \n",
        "2. Which vendor that have most ordered by stores in 2021?\n",
        "3. How much difference of average price that Alcoholic Beverage \n",
        "Division paid and store paid for each bottle ordered in last 3 \n",
        "years? \n",
        "\n",
        "#Exploring the Data\n",
        "1. Data Filtering\n",
        "   \n",
        "   QUERY:\n",
        "    \n",
        "    SELECT date, upper(county) as county,city, zip_code, store_number, store_name, vendor_number, vendor_name, state_bottle_cost, state_bottle_retail\n",
        "    \n",
        "    FROM `bigquery-public-data.iowa_liquor_sales.sales`\n",
        "    \n",
        "    WHERE county = 'POCAHONTAS'\n",
        "2. Data Cleaning\n",
        "*  Remove duplicate data\n",
        "*  Change data type\n",
        "*  Remove outliers\n",
        "*  Fix string to proper case"
      ],
      "metadata": {
        "id": "1LwN6ZYw4tvA"
      }
    },
    {
      "cell_type": "markdown",
      "source": [
        "#Explore Data"
      ],
      "metadata": {
        "id": "iP7nup21Bmf_"
      }
    },
    {
      "cell_type": "code",
      "source": [
        "import pandas as pd\n",
        "sales = pd.read_csv('liquor_sales_pocahontas.csv')\n",
        "sales.info()"
      ],
      "metadata": {
        "id": "S2U5TwA_8het"
      },
      "execution_count": null,
      "outputs": []
    },
    {
      "cell_type": "markdown",
      "source": [
        "#Cleaning Data\n",
        "1. Check duplicates\n"
      ],
      "metadata": {
        "id": "1mnEdcDfB0y2"
      }
    },
    {
      "cell_type": "code",
      "source": [
        "sales.drop_duplicates()"
      ],
      "metadata": {
        "id": "AJbczggbB_tm"
      },
      "execution_count": null,
      "outputs": []
    },
    {
      "cell_type": "markdown",
      "source": [
        "2. Change data type: zip_code, store_number, vendor_number to string"
      ],
      "metadata": {
        "id": "NCGpwwvMCVXl"
      }
    },
    {
      "cell_type": "code",
      "source": [
        "sales['zip_code'] = sales['zip_code'].astype('str')\n",
        "sales['store_number'] = sales['store_number'].astype('str')\n",
        "sales['vendor_number'] = sales['vendor_number'].astype('str')\n",
        "sales.info()"
      ],
      "metadata": {
        "id": "FUgSJz2pCixU"
      },
      "execution_count": null,
      "outputs": []
    },
    {
      "cell_type": "markdown",
      "source": [
        "3. Check Outliers"
      ],
      "metadata": {
        "id": "gvcx1N-OEBbf"
      }
    },
    {
      "cell_type": "code",
      "source": [
        "#Before\n",
        "sales.boxplot(column='state_bottle_cost')"
      ],
      "metadata": {
        "id": "MBCqMsQuEG43"
      },
      "execution_count": null,
      "outputs": []
    },
    {
      "cell_type": "code",
      "source": [
        "sales['state_bottle_cost'].describe()"
      ],
      "metadata": {
        "id": "TZVo_xHoGKRO"
      },
      "execution_count": null,
      "outputs": []
    },
    {
      "cell_type": "code",
      "source": [
        "percentile25 = sales['state_bottle_cost'].quantile(0.25)\n",
        "percentile75 = sales['state_bottle_cost'].quantile(0.75)\n",
        "upper_limit = percentile75 + 1.5 * (percentile75-percentile25)\n",
        "lower_limit = percentile25 - 1.5 * (percentile75-percentile25)"
      ],
      "metadata": {
        "id": "t7wEhKeKGdbg"
      },
      "execution_count": null,
      "outputs": []
    },
    {
      "cell_type": "code",
      "source": [
        "sales = sales[sales['state_bottle_cost'] > lower_limit]\n",
        "sales = sales[sales['state_bottle_cost'] < upper_limit]\n",
        "sales['state_bottle_cost'].describe()"
      ],
      "metadata": {
        "id": "QfKRaAk2GgMC"
      },
      "execution_count": null,
      "outputs": []
    },
    {
      "cell_type": "code",
      "source": [
        "#After\n",
        "sales.boxplot(column='state_bottle_cost')"
      ],
      "metadata": {
        "id": "aivdyJGWGuUW"
      },
      "execution_count": null,
      "outputs": []
    },
    {
      "cell_type": "code",
      "source": [
        "sales.boxplot(column='state_bottle_retail')"
      ],
      "metadata": {
        "id": "voshKqnVG4FB"
      },
      "execution_count": null,
      "outputs": []
    },
    {
      "cell_type": "code",
      "source": [
        "sales['state_bottle_retail'].describe()"
      ],
      "metadata": {
        "id": "uJLm3EswHCzg"
      },
      "execution_count": null,
      "outputs": []
    },
    {
      "cell_type": "code",
      "source": [
        "sales.info()"
      ],
      "metadata": {
        "id": "zRatdC7aHybl"
      },
      "execution_count": null,
      "outputs": []
    },
    {
      "cell_type": "markdown",
      "source": [
        "4. Fix county, city and vendor_name to PROPER CASE"
      ],
      "metadata": {
        "id": "ECh76Qz8IRjw"
      }
    },
    {
      "cell_type": "code",
      "source": [
        "sales['county'] = sales['county'].str.title()\n",
        "sales['county'].unique()"
      ],
      "metadata": {
        "id": "yUyVLBFeITbg"
      },
      "execution_count": null,
      "outputs": []
    },
    {
      "cell_type": "code",
      "source": [
        "sales['city'] = sales['city'].str.title()\n",
        "sales['city'].unique()"
      ],
      "metadata": {
        "id": "Q8u1cZ_TI_LN"
      },
      "execution_count": null,
      "outputs": []
    },
    {
      "cell_type": "code",
      "source": [
        "sales['vendor_name'] = sales['vendor_name'].str.title()\n",
        "sales['vendor_name'].unique()"
      ],
      "metadata": {
        "id": "7LKVx3rBJinJ"
      },
      "execution_count": null,
      "outputs": []
    },
    {
      "cell_type": "markdown",
      "source": [
        "5. Check unique data"
      ],
      "metadata": {
        "id": "78Dc-gXbJ-YI"
      }
    },
    {
      "cell_type": "code",
      "source": [
        "sales['zip_code'].unique()"
      ],
      "metadata": {
        "id": "FPh0Jls9J9ZO"
      },
      "execution_count": null,
      "outputs": []
    },
    {
      "cell_type": "code",
      "source": [
        "sales['store_number'].unique()"
      ],
      "metadata": {
        "id": "mlVhEXjWKVdt"
      },
      "execution_count": null,
      "outputs": []
    },
    {
      "cell_type": "code",
      "source": [
        "sales['vendor_number'].unique()"
      ],
      "metadata": {
        "id": "FwCfoi01Kbcl"
      },
      "execution_count": null,
      "outputs": []
    },
    {
      "cell_type": "markdown",
      "source": [
        "#Download Cleaned Data to CSV"
      ],
      "metadata": {
        "id": "Lbv36aB1Kk9b"
      }
    },
    {
      "cell_type": "code",
      "source": [
        "sales.to_csv('Liquor Sales Pocahontas cleaned.csv')\n",
        "from google.colab import files\n",
        "files.download('Liquor Sales Pocahontas cleaned.csv')"
      ],
      "metadata": {
        "colab": {
          "base_uri": "https://localhost:8080/",
          "height": 17
        },
        "id": "RAsEBFoOKveA",
        "outputId": "e8cc6605-02d8-4236-8347-19fe9c35c9d2"
      },
      "execution_count": null,
      "outputs": [
        {
          "output_type": "display_data",
          "data": {
            "text/plain": [
              "<IPython.core.display.Javascript object>"
            ],
            "application/javascript": [
              "\n",
              "    async function download(id, filename, size) {\n",
              "      if (!google.colab.kernel.accessAllowed) {\n",
              "        return;\n",
              "      }\n",
              "      const div = document.createElement('div');\n",
              "      const label = document.createElement('label');\n",
              "      label.textContent = `Downloading \"${filename}\": `;\n",
              "      div.appendChild(label);\n",
              "      const progress = document.createElement('progress');\n",
              "      progress.max = size;\n",
              "      div.appendChild(progress);\n",
              "      document.body.appendChild(div);\n",
              "\n",
              "      const buffers = [];\n",
              "      let downloaded = 0;\n",
              "\n",
              "      const channel = await google.colab.kernel.comms.open(id);\n",
              "      // Send a message to notify the kernel that we're ready.\n",
              "      channel.send({})\n",
              "\n",
              "      for await (const message of channel.messages) {\n",
              "        // Send a message to notify the kernel that we're ready.\n",
              "        channel.send({})\n",
              "        if (message.buffers) {\n",
              "          for (const buffer of message.buffers) {\n",
              "            buffers.push(buffer);\n",
              "            downloaded += buffer.byteLength;\n",
              "            progress.value = downloaded;\n",
              "          }\n",
              "        }\n",
              "      }\n",
              "      const blob = new Blob(buffers, {type: 'application/binary'});\n",
              "      const a = document.createElement('a');\n",
              "      a.href = window.URL.createObjectURL(blob);\n",
              "      a.download = filename;\n",
              "      div.appendChild(a);\n",
              "      a.click();\n",
              "      div.remove();\n",
              "    }\n",
              "  "
            ]
          },
          "metadata": {}
        },
        {
          "output_type": "display_data",
          "data": {
            "text/plain": [
              "<IPython.core.display.Javascript object>"
            ],
            "application/javascript": [
              "download(\"download_a89d33a0-397a-435c-8faa-e7723bef78a7\", \"Liquor Sales Pocahontas cleaned.csv\", 2671957)"
            ]
          },
          "metadata": {}
        }
      ]
    },
    {
      "cell_type": "markdown",
      "source": [
        "#Visualize The Data\n",
        "To visualize the data, I'm using Google Data Studio. You can find more information at this link: https://datastudio.google.com/s/lPwkzTSJl7Q"
      ],
      "metadata": {
        "id": "gOeFnwBsxgyG"
      }
    },
    {
      "cell_type": "markdown",
      "source": [
        "#Insight\n",
        "1. Most of our customers are in Pocahontas, we can intensify large promos there.\n",
        "2. Monthly sales are busy on April, we can give special promotions on that day suchas \"April Sale\".\n",
        "3. The number of vendors affects sales in each city. Increase the number of vendors in the other 3 cities.\n",
        "4. Give special promotions to the vendor leaderboard every month."
      ],
      "metadata": {
        "id": "68z6UqVS1A5w"
      }
    }
  ]
}