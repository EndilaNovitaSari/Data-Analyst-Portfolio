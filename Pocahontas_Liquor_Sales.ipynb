{
  "nbformat": 4,
  "nbformat_minor": 0,
  "metadata": {
    "colab": {
      "name": "Pocahontas Liquor Sales",
      "provenance": [],
      "mount_file_id": "1k4b2MZ8IqB-9CoET3imZkPXBPhTVuUzd",
      "authorship_tag": "ABX9TyM+bn5iRfgpB84P3pjE/1Hi"
    },
    "kernelspec": {
      "name": "python3",
      "display_name": "Python 3"
    },
    "language_info": {
      "name": "python"
    }
  },
  "cells": [
    {
      "cell_type": "markdown",
      "source": [
        "#Tools:\n",
        "1. Google Bigquery: to filter the data\n",
        "2. Google Colab: to clean the data\n",
        "3. Google Data Studio: to visualize the data\n",
        "\n",
        "#Table of interest:  \n",
        "`bigquery-public-data.iowa_liquor_sales.sales`"
      ],
      "metadata": {
        "id": "_EjLBrdS1Tmh"
      }
    },
    {
      "cell_type": "markdown",
      "source": [
        "#Defining the Problems\n",
        "This case study will focus on Pocahontas county.\n",
        "1. How many cities that have liquor stores? Which city that have most liquor stores? \n",
        "2. Which vendor that have most ordered by stores in 2022?\n",
        "3. How much difference of average price that Alcoholic Beverage \n",
        "Division paid and store paid for each bottle ordered in last 6 \n",
        "months? \n",
        "\n",
        "#Exploring the Data\n",
        "1. Data Filtering\n",
        "   \n",
        "   QUERY:\n",
        "    \n",
        "    SELECT date, upper(county) as county,city, zip_code, store_number, store_name, vendor_number, vendor_name, state_bottle_cost, state_bottle_retail\n",
        "    \n",
        "    FROM `bigquery-public-data.iowa_liquor_sales.sales`\n",
        "    \n",
        "    WHERE county = 'POCAHONTAS'\n",
        "2. Data Cleaning\n",
        "*  Remove duplicate data\n",
        "*  Change data type\n",
        "*  Remove outliers\n",
        "*  Fix string to proper case"
      ],
      "metadata": {
        "id": "1LwN6ZYw4tvA"
      }
    },
    {
      "cell_type": "markdown",
      "source": [
        "#Explore Data"
      ],
      "metadata": {
        "id": "iP7nup21Bmf_"
      }
    },
    {
      "cell_type": "code",
      "source": [
        "import pandas as pd\n",
        "sales = pd.read_csv('liquor_sales_pocahontas.csv')\n",
        "sales.info()"
      ],
      "metadata": {
        "id": "S2U5TwA_8het",
        "colab": {
          "base_uri": "https://localhost:8080/"
        },
        "outputId": "6aa7fd2d-1c43-4da7-8869-4f69b7176a7f"
      },
      "execution_count": 9,
      "outputs": [
        {
          "output_type": "stream",
          "name": "stdout",
          "text": [
            "<class 'pandas.core.frame.DataFrame'>\n",
            "RangeIndex: 24886 entries, 0 to 24885\n",
            "Data columns (total 10 columns):\n",
            " #   Column               Non-Null Count  Dtype  \n",
            "---  ------               --------------  -----  \n",
            " 0   date                 24886 non-null  object \n",
            " 1   county               24886 non-null  object \n",
            " 2   city                 24886 non-null  object \n",
            " 3   zip_code             24886 non-null  float64\n",
            " 4   store_number         24886 non-null  int64  \n",
            " 5   store_name           24886 non-null  object \n",
            " 6   vendor_number        24886 non-null  float64\n",
            " 7   vendor_name          24886 non-null  object \n",
            " 8   state_bottle_cost    24886 non-null  float64\n",
            " 9   state_bottle_retail  24886 non-null  float64\n",
            "dtypes: float64(4), int64(1), object(5)\n",
            "memory usage: 1.9+ MB\n"
          ]
        }
      ]
    },
    {
      "cell_type": "markdown",
      "source": [
        "#Cleaning Data\n",
        "1. Check duplicates\n"
      ],
      "metadata": {
        "id": "1mnEdcDfB0y2"
      }
    },
    {
      "cell_type": "code",
      "source": [
        "sales.drop_duplicates()"
      ],
      "metadata": {
        "id": "AJbczggbB_tm",
        "colab": {
          "base_uri": "https://localhost:8080/",
          "height": 763
        },
        "outputId": "df5ea776-6b27-435c-c158-6a0e4d0fc16c"
      },
      "execution_count": 10,
      "outputs": [
        {
          "output_type": "execute_result",
          "data": {
            "text/plain": [
              "             date      county        city  zip_code  store_number  \\\n",
              "0      2017-06-21  POCAHONTAS  Pocahontas   50574.0          3783   \n",
              "1      2020-01-17  POCAHONTAS  Pocahontas   50574.0          3783   \n",
              "2      2018-01-03  POCAHONTAS  Pocahontas   50574.0          3783   \n",
              "3      2017-11-29  POCAHONTAS  Pocahontas   50574.0          3783   \n",
              "4      2019-08-02  POCAHONTAS  Pocahontas   50574.0          3783   \n",
              "...           ...         ...         ...       ...           ...   \n",
              "24880  2021-10-22  POCAHONTAS  Pocahontas   50574.0          6101   \n",
              "24882  2022-02-25  POCAHONTAS  Pocahontas   50574.0          6101   \n",
              "24883  2021-04-16  POCAHONTAS  Pocahontas   50574.0          6101   \n",
              "24884  2021-05-07  POCAHONTAS  Pocahontas   50574.0          6101   \n",
              "24885  2021-04-23  POCAHONTAS  Pocahontas   50574.0          6101   \n",
              "\n",
              "                                 store_name  vendor_number  \\\n",
              "0      Dyno's Wine and Spirits / Pocahontas          370.0   \n",
              "1      Dyno's Wine and Spirits / Pocahontas          370.0   \n",
              "2      Dyno's Wine and Spirits / Pocahontas          370.0   \n",
              "3      Dyno's Wine and Spirits / Pocahontas          434.0   \n",
              "4      Dyno's Wine and Spirits / Pocahontas          434.0   \n",
              "...                                     ...            ...   \n",
              "24880             Brew Oil #26 / Pocahontas          125.0   \n",
              "24882             Brew Oil #26 / Pocahontas          305.0   \n",
              "24883             Brew Oil #26 / Pocahontas           55.0   \n",
              "24884             Brew Oil #26 / Pocahontas          192.0   \n",
              "24885             Brew Oil #26 / Pocahontas          260.0   \n",
              "\n",
              "                     vendor_name  state_bottle_cost  state_bottle_retail  \n",
              "0              PERNOD RICARD USA              14.99                22.49  \n",
              "1              PERNOD RICARD USA               6.49                 9.74  \n",
              "2              PERNOD RICARD USA              14.99                22.49  \n",
              "3                      LUXCO INC               9.00                13.50  \n",
              "4                      LUXCO INC               7.84                11.76  \n",
              "...                          ...                ...                  ...  \n",
              "24880   CEDAR RIDGE VINEYARDS LL              18.10                27.15  \n",
              "24882                    Mhw LTD              10.49                15.74  \n",
              "24883      SAZERAC NORTH AMERICA               6.00                 9.00  \n",
              "24884  Mast-Jagermeister US, Inc              13.00                19.50  \n",
              "24885            DIAGEO AMERICAS               7.47                11.21  \n",
              "\n",
              "[23317 rows x 10 columns]"
            ],
            "text/html": [
              "\n",
              "  <div id=\"df-8e8521f3-e94f-4392-a904-7e2ed1bf27ed\">\n",
              "    <div class=\"colab-df-container\">\n",
              "      <div>\n",
              "<style scoped>\n",
              "    .dataframe tbody tr th:only-of-type {\n",
              "        vertical-align: middle;\n",
              "    }\n",
              "\n",
              "    .dataframe tbody tr th {\n",
              "        vertical-align: top;\n",
              "    }\n",
              "\n",
              "    .dataframe thead th {\n",
              "        text-align: right;\n",
              "    }\n",
              "</style>\n",
              "<table border=\"1\" class=\"dataframe\">\n",
              "  <thead>\n",
              "    <tr style=\"text-align: right;\">\n",
              "      <th></th>\n",
              "      <th>date</th>\n",
              "      <th>county</th>\n",
              "      <th>city</th>\n",
              "      <th>zip_code</th>\n",
              "      <th>store_number</th>\n",
              "      <th>store_name</th>\n",
              "      <th>vendor_number</th>\n",
              "      <th>vendor_name</th>\n",
              "      <th>state_bottle_cost</th>\n",
              "      <th>state_bottle_retail</th>\n",
              "    </tr>\n",
              "  </thead>\n",
              "  <tbody>\n",
              "    <tr>\n",
              "      <th>0</th>\n",
              "      <td>2017-06-21</td>\n",
              "      <td>POCAHONTAS</td>\n",
              "      <td>Pocahontas</td>\n",
              "      <td>50574.0</td>\n",
              "      <td>3783</td>\n",
              "      <td>Dyno's Wine and Spirits / Pocahontas</td>\n",
              "      <td>370.0</td>\n",
              "      <td>PERNOD RICARD USA</td>\n",
              "      <td>14.99</td>\n",
              "      <td>22.49</td>\n",
              "    </tr>\n",
              "    <tr>\n",
              "      <th>1</th>\n",
              "      <td>2020-01-17</td>\n",
              "      <td>POCAHONTAS</td>\n",
              "      <td>Pocahontas</td>\n",
              "      <td>50574.0</td>\n",
              "      <td>3783</td>\n",
              "      <td>Dyno's Wine and Spirits / Pocahontas</td>\n",
              "      <td>370.0</td>\n",
              "      <td>PERNOD RICARD USA</td>\n",
              "      <td>6.49</td>\n",
              "      <td>9.74</td>\n",
              "    </tr>\n",
              "    <tr>\n",
              "      <th>2</th>\n",
              "      <td>2018-01-03</td>\n",
              "      <td>POCAHONTAS</td>\n",
              "      <td>Pocahontas</td>\n",
              "      <td>50574.0</td>\n",
              "      <td>3783</td>\n",
              "      <td>Dyno's Wine and Spirits / Pocahontas</td>\n",
              "      <td>370.0</td>\n",
              "      <td>PERNOD RICARD USA</td>\n",
              "      <td>14.99</td>\n",
              "      <td>22.49</td>\n",
              "    </tr>\n",
              "    <tr>\n",
              "      <th>3</th>\n",
              "      <td>2017-11-29</td>\n",
              "      <td>POCAHONTAS</td>\n",
              "      <td>Pocahontas</td>\n",
              "      <td>50574.0</td>\n",
              "      <td>3783</td>\n",
              "      <td>Dyno's Wine and Spirits / Pocahontas</td>\n",
              "      <td>434.0</td>\n",
              "      <td>LUXCO INC</td>\n",
              "      <td>9.00</td>\n",
              "      <td>13.50</td>\n",
              "    </tr>\n",
              "    <tr>\n",
              "      <th>4</th>\n",
              "      <td>2019-08-02</td>\n",
              "      <td>POCAHONTAS</td>\n",
              "      <td>Pocahontas</td>\n",
              "      <td>50574.0</td>\n",
              "      <td>3783</td>\n",
              "      <td>Dyno's Wine and Spirits / Pocahontas</td>\n",
              "      <td>434.0</td>\n",
              "      <td>LUXCO INC</td>\n",
              "      <td>7.84</td>\n",
              "      <td>11.76</td>\n",
              "    </tr>\n",
              "    <tr>\n",
              "      <th>...</th>\n",
              "      <td>...</td>\n",
              "      <td>...</td>\n",
              "      <td>...</td>\n",
              "      <td>...</td>\n",
              "      <td>...</td>\n",
              "      <td>...</td>\n",
              "      <td>...</td>\n",
              "      <td>...</td>\n",
              "      <td>...</td>\n",
              "      <td>...</td>\n",
              "    </tr>\n",
              "    <tr>\n",
              "      <th>24880</th>\n",
              "      <td>2021-10-22</td>\n",
              "      <td>POCAHONTAS</td>\n",
              "      <td>Pocahontas</td>\n",
              "      <td>50574.0</td>\n",
              "      <td>6101</td>\n",
              "      <td>Brew Oil #26 / Pocahontas</td>\n",
              "      <td>125.0</td>\n",
              "      <td>CEDAR RIDGE VINEYARDS LL</td>\n",
              "      <td>18.10</td>\n",
              "      <td>27.15</td>\n",
              "    </tr>\n",
              "    <tr>\n",
              "      <th>24882</th>\n",
              "      <td>2022-02-25</td>\n",
              "      <td>POCAHONTAS</td>\n",
              "      <td>Pocahontas</td>\n",
              "      <td>50574.0</td>\n",
              "      <td>6101</td>\n",
              "      <td>Brew Oil #26 / Pocahontas</td>\n",
              "      <td>305.0</td>\n",
              "      <td>Mhw LTD</td>\n",
              "      <td>10.49</td>\n",
              "      <td>15.74</td>\n",
              "    </tr>\n",
              "    <tr>\n",
              "      <th>24883</th>\n",
              "      <td>2021-04-16</td>\n",
              "      <td>POCAHONTAS</td>\n",
              "      <td>Pocahontas</td>\n",
              "      <td>50574.0</td>\n",
              "      <td>6101</td>\n",
              "      <td>Brew Oil #26 / Pocahontas</td>\n",
              "      <td>55.0</td>\n",
              "      <td>SAZERAC NORTH AMERICA</td>\n",
              "      <td>6.00</td>\n",
              "      <td>9.00</td>\n",
              "    </tr>\n",
              "    <tr>\n",
              "      <th>24884</th>\n",
              "      <td>2021-05-07</td>\n",
              "      <td>POCAHONTAS</td>\n",
              "      <td>Pocahontas</td>\n",
              "      <td>50574.0</td>\n",
              "      <td>6101</td>\n",
              "      <td>Brew Oil #26 / Pocahontas</td>\n",
              "      <td>192.0</td>\n",
              "      <td>Mast-Jagermeister US, Inc</td>\n",
              "      <td>13.00</td>\n",
              "      <td>19.50</td>\n",
              "    </tr>\n",
              "    <tr>\n",
              "      <th>24885</th>\n",
              "      <td>2021-04-23</td>\n",
              "      <td>POCAHONTAS</td>\n",
              "      <td>Pocahontas</td>\n",
              "      <td>50574.0</td>\n",
              "      <td>6101</td>\n",
              "      <td>Brew Oil #26 / Pocahontas</td>\n",
              "      <td>260.0</td>\n",
              "      <td>DIAGEO AMERICAS</td>\n",
              "      <td>7.47</td>\n",
              "      <td>11.21</td>\n",
              "    </tr>\n",
              "  </tbody>\n",
              "</table>\n",
              "<p>23317 rows × 10 columns</p>\n",
              "</div>\n",
              "      <button class=\"colab-df-convert\" onclick=\"convertToInteractive('df-8e8521f3-e94f-4392-a904-7e2ed1bf27ed')\"\n",
              "              title=\"Convert this dataframe to an interactive table.\"\n",
              "              style=\"display:none;\">\n",
              "        \n",
              "  <svg xmlns=\"http://www.w3.org/2000/svg\" height=\"24px\"viewBox=\"0 0 24 24\"\n",
              "       width=\"24px\">\n",
              "    <path d=\"M0 0h24v24H0V0z\" fill=\"none\"/>\n",
              "    <path d=\"M18.56 5.44l.94 2.06.94-2.06 2.06-.94-2.06-.94-.94-2.06-.94 2.06-2.06.94zm-11 1L8.5 8.5l.94-2.06 2.06-.94-2.06-.94L8.5 2.5l-.94 2.06-2.06.94zm10 10l.94 2.06.94-2.06 2.06-.94-2.06-.94-.94-2.06-.94 2.06-2.06.94z\"/><path d=\"M17.41 7.96l-1.37-1.37c-.4-.4-.92-.59-1.43-.59-.52 0-1.04.2-1.43.59L10.3 9.45l-7.72 7.72c-.78.78-.78 2.05 0 2.83L4 21.41c.39.39.9.59 1.41.59.51 0 1.02-.2 1.41-.59l7.78-7.78 2.81-2.81c.8-.78.8-2.07 0-2.86zM5.41 20L4 18.59l7.72-7.72 1.47 1.35L5.41 20z\"/>\n",
              "  </svg>\n",
              "      </button>\n",
              "      \n",
              "  <style>\n",
              "    .colab-df-container {\n",
              "      display:flex;\n",
              "      flex-wrap:wrap;\n",
              "      gap: 12px;\n",
              "    }\n",
              "\n",
              "    .colab-df-convert {\n",
              "      background-color: #E8F0FE;\n",
              "      border: none;\n",
              "      border-radius: 50%;\n",
              "      cursor: pointer;\n",
              "      display: none;\n",
              "      fill: #1967D2;\n",
              "      height: 32px;\n",
              "      padding: 0 0 0 0;\n",
              "      width: 32px;\n",
              "    }\n",
              "\n",
              "    .colab-df-convert:hover {\n",
              "      background-color: #E2EBFA;\n",
              "      box-shadow: 0px 1px 2px rgba(60, 64, 67, 0.3), 0px 1px 3px 1px rgba(60, 64, 67, 0.15);\n",
              "      fill: #174EA6;\n",
              "    }\n",
              "\n",
              "    [theme=dark] .colab-df-convert {\n",
              "      background-color: #3B4455;\n",
              "      fill: #D2E3FC;\n",
              "    }\n",
              "\n",
              "    [theme=dark] .colab-df-convert:hover {\n",
              "      background-color: #434B5C;\n",
              "      box-shadow: 0px 1px 3px 1px rgba(0, 0, 0, 0.15);\n",
              "      filter: drop-shadow(0px 1px 2px rgba(0, 0, 0, 0.3));\n",
              "      fill: #FFFFFF;\n",
              "    }\n",
              "  </style>\n",
              "\n",
              "      <script>\n",
              "        const buttonEl =\n",
              "          document.querySelector('#df-8e8521f3-e94f-4392-a904-7e2ed1bf27ed button.colab-df-convert');\n",
              "        buttonEl.style.display =\n",
              "          google.colab.kernel.accessAllowed ? 'block' : 'none';\n",
              "\n",
              "        async function convertToInteractive(key) {\n",
              "          const element = document.querySelector('#df-8e8521f3-e94f-4392-a904-7e2ed1bf27ed');\n",
              "          const dataTable =\n",
              "            await google.colab.kernel.invokeFunction('convertToInteractive',\n",
              "                                                     [key], {});\n",
              "          if (!dataTable) return;\n",
              "\n",
              "          const docLinkHtml = 'Like what you see? Visit the ' +\n",
              "            '<a target=\"_blank\" href=https://colab.research.google.com/notebooks/data_table.ipynb>data table notebook</a>'\n",
              "            + ' to learn more about interactive tables.';\n",
              "          element.innerHTML = '';\n",
              "          dataTable['output_type'] = 'display_data';\n",
              "          await google.colab.output.renderOutput(dataTable, element);\n",
              "          const docLink = document.createElement('div');\n",
              "          docLink.innerHTML = docLinkHtml;\n",
              "          element.appendChild(docLink);\n",
              "        }\n",
              "      </script>\n",
              "    </div>\n",
              "  </div>\n",
              "  "
            ]
          },
          "metadata": {},
          "execution_count": 10
        }
      ]
    },
    {
      "cell_type": "markdown",
      "source": [
        "2. Change data type: zip_code, store_number, vendor_number to string"
      ],
      "metadata": {
        "id": "NCGpwwvMCVXl"
      }
    },
    {
      "cell_type": "code",
      "source": [
        "sales['zip_code'] = sales['zip_code'].astype('str')\n",
        "sales['store_number'] = sales['store_number'].astype('str')\n",
        "sales['vendor_number'] = sales['vendor_number'].astype('str')\n",
        "sales.info()"
      ],
      "metadata": {
        "id": "FUgSJz2pCixU",
        "colab": {
          "base_uri": "https://localhost:8080/"
        },
        "outputId": "d19642bb-0a31-47c2-d4c1-d1301619a212"
      },
      "execution_count": 11,
      "outputs": [
        {
          "output_type": "stream",
          "name": "stdout",
          "text": [
            "<class 'pandas.core.frame.DataFrame'>\n",
            "RangeIndex: 24886 entries, 0 to 24885\n",
            "Data columns (total 10 columns):\n",
            " #   Column               Non-Null Count  Dtype  \n",
            "---  ------               --------------  -----  \n",
            " 0   date                 24886 non-null  object \n",
            " 1   county               24886 non-null  object \n",
            " 2   city                 24886 non-null  object \n",
            " 3   zip_code             24886 non-null  object \n",
            " 4   store_number         24886 non-null  object \n",
            " 5   store_name           24886 non-null  object \n",
            " 6   vendor_number        24886 non-null  object \n",
            " 7   vendor_name          24886 non-null  object \n",
            " 8   state_bottle_cost    24886 non-null  float64\n",
            " 9   state_bottle_retail  24886 non-null  float64\n",
            "dtypes: float64(2), object(8)\n",
            "memory usage: 1.9+ MB\n"
          ]
        }
      ]
    },
    {
      "cell_type": "markdown",
      "source": [
        "3. Check Outliers"
      ],
      "metadata": {
        "id": "gvcx1N-OEBbf"
      }
    },
    {
      "cell_type": "code",
      "source": [
        "#Before\n",
        "sales.boxplot(column='state_bottle_cost')"
      ],
      "metadata": {
        "id": "MBCqMsQuEG43",
        "colab": {
          "base_uri": "https://localhost:8080/",
          "height": 284
        },
        "outputId": "7c3d35aa-2b1a-488b-b645-897f617192c7"
      },
      "execution_count": 12,
      "outputs": [
        {
          "output_type": "execute_result",
          "data": {
            "text/plain": [
              "<matplotlib.axes._subplots.AxesSubplot at 0x7f3cc3b40a10>"
            ]
          },
          "metadata": {},
          "execution_count": 12
        },
        {
          "output_type": "display_data",
          "data": {
            "text/plain": [
              "<Figure size 432x288 with 1 Axes>"
            ],
            "image/png": "[encoded data removed]"
          },
          "metadata": {
            "needs_background": "light"
          }
        }
      ]
    },
    {
      "cell_type": "code",
      "source": [
        "sales['state_bottle_cost'].describe()"
      ],
      "metadata": {
        "id": "TZVo_xHoGKRO",
        "colab": {
          "base_uri": "https://localhost:8080/"
        },
        "outputId": "cd03d9c1-f4bc-48d9-b25c-201f9536d179"
      },
      "execution_count": 13,
      "outputs": [
        {
          "output_type": "execute_result",
          "data": {
            "text/plain": [
              "count    24886.000000\n",
              "mean        10.035532\n",
              "std          7.339613\n",
              "min          0.890000\n",
              "25%          6.000000\n",
              "50%          8.250000\n",
              "75%         12.450000\n",
              "max        250.000000\n",
              "Name: state_bottle_cost, dtype: float64"
            ]
          },
          "metadata": {},
          "execution_count": 13
        }
      ]
    },
    {
      "cell_type": "code",
      "source": [
        "percentile25 = sales['state_bottle_cost'].quantile(0.25)\n",
        "percentile75 = sales['state_bottle_cost'].quantile(0.75)\n",
        "upper_limit = percentile75 + 1.5 * (percentile75-percentile25)\n",
        "lower_limit = percentile25 - 1.5 * (percentile75-percentile25)"
      ],
      "metadata": {
        "id": "t7wEhKeKGdbg"
      },
      "execution_count": 14,
      "outputs": []
    },
    {
      "cell_type": "code",
      "source": [
        "sales = sales[sales['state_bottle_cost'] > lower_limit]\n",
        "sales = sales[sales['state_bottle_cost'] < upper_limit]\n",
        "sales['state_bottle_cost'].describe()"
      ],
      "metadata": {
        "id": "QfKRaAk2GgMC",
        "colab": {
          "base_uri": "https://localhost:8080/"
        },
        "outputId": "ccb1add6-33a0-4051-f70d-039d174ac852"
      },
      "execution_count": 15,
      "outputs": [
        {
          "output_type": "execute_result",
          "data": {
            "text/plain": [
              "count    23789.000000\n",
              "mean         8.997656\n",
              "std          4.343013\n",
              "min          0.890000\n",
              "25%          5.650000\n",
              "50%          7.990000\n",
              "75%         11.440000\n",
              "max         22.000000\n",
              "Name: state_bottle_cost, dtype: float64"
            ]
          },
          "metadata": {},
          "execution_count": 15
        }
      ]
    },
    {
      "cell_type": "code",
      "source": [
        "#After\n",
        "sales.boxplot(column='state_bottle_cost')"
      ],
      "metadata": {
        "id": "aivdyJGWGuUW",
        "colab": {
          "base_uri": "https://localhost:8080/",
          "height": 284
        },
        "outputId": "40a5f5ca-3111-42a2-86fc-27eff1657285"
      },
      "execution_count": 16,
      "outputs": [
        {
          "output_type": "execute_result",
          "data": {
            "text/plain": [
              "<matplotlib.axes._subplots.AxesSubplot at 0x7f3cc35d7510>"
            ]
          },
          "metadata": {},
          "execution_count": 16
        },
        {
          "output_type": "display_data",
          "data": {
            "text/plain": [
              "<Figure size 432x288 with 1 Axes>"
            ],
            "image/png": "[encoded data removed]"
          },
          "metadata": {
            "needs_background": "light"
          }
        }
      ]
    },
    {
      "cell_type": "code",
      "source": [
        "sales.boxplot(column='state_bottle_retail')"
      ],
      "metadata": {
        "id": "voshKqnVG4FB",
        "colab": {
          "base_uri": "https://localhost:8080/",
          "height": 284
        },
        "outputId": "e2dcdb23-c15d-41a5-a355-640241c6d858"
      },
      "execution_count": 17,
      "outputs": [
        {
          "output_type": "execute_result",
          "data": {
            "text/plain": [
              "<matplotlib.axes._subplots.AxesSubplot at 0x7f3cc377a290>"
            ]
          },
          "metadata": {},
          "execution_count": 17
        },
        {
          "output_type": "display_data",
          "data": {
            "text/plain": [
              "<Figure size 432x288 with 1 Axes>"
            ],
            "image/png": "[encoded data removed]"
          },
          "metadata": {
            "needs_background": "light"
          }
        }
      ]
    },
    {
      "cell_type": "code",
      "source": [
        "sales['state_bottle_retail'].describe()"
      ],
      "metadata": {
        "id": "uJLm3EswHCzg",
        "colab": {
          "base_uri": "https://localhost:8080/"
        },
        "outputId": "e7b6a8f0-f546-4708-f311-0f6d3cb4e0b4"
      },
      "execution_count": 18,
      "outputs": [
        {
          "output_type": "execute_result",
          "data": {
            "text/plain": [
              "count    23789.000000\n",
              "mean        13.498545\n",
              "std          6.514693\n",
              "min          1.340000\n",
              "25%          8.480000\n",
              "50%         11.990000\n",
              "75%         17.160000\n",
              "max         33.000000\n",
              "Name: state_bottle_retail, dtype: float64"
            ]
          },
          "metadata": {},
          "execution_count": 18
        }
      ]
    },
    {
      "cell_type": "code",
      "source": [
        "sales.info()"
      ],
      "metadata": {
        "id": "zRatdC7aHybl",
        "colab": {
          "base_uri": "https://localhost:8080/"
        },
        "outputId": "3567e518-9402-449e-9880-22f24e6d80a0"
      },
      "execution_count": 19,
      "outputs": [
        {
          "output_type": "stream",
          "name": "stdout",
          "text": [
            "<class 'pandas.core.frame.DataFrame'>\n",
            "Int64Index: 23789 entries, 0 to 24885\n",
            "Data columns (total 10 columns):\n",
            " #   Column               Non-Null Count  Dtype  \n",
            "---  ------               --------------  -----  \n",
            " 0   date                 23789 non-null  object \n",
            " 1   county               23789 non-null  object \n",
            " 2   city                 23789 non-null  object \n",
            " 3   zip_code             23789 non-null  object \n",
            " 4   store_number         23789 non-null  object \n",
            " 5   store_name           23789 non-null  object \n",
            " 6   vendor_number        23789 non-null  object \n",
            " 7   vendor_name          23789 non-null  object \n",
            " 8   state_bottle_cost    23789 non-null  float64\n",
            " 9   state_bottle_retail  23789 non-null  float64\n",
            "dtypes: float64(2), object(8)\n",
            "memory usage: 2.0+ MB\n"
          ]
        }
      ]
    },
    {
      "cell_type": "markdown",
      "source": [
        "4. Fix county, city and vendor_name to PROPER CASE"
      ],
      "metadata": {
        "id": "ECh76Qz8IRjw"
      }
    },
    {
      "cell_type": "code",
      "source": [
        "sales['county'] = sales['county'].str.title()\n",
        "sales['county'].unique()"
      ],
      "metadata": {
        "id": "yUyVLBFeITbg",
        "colab": {
          "base_uri": "https://localhost:8080/"
        },
        "outputId": "9dc5e2c5-8281-4009-c8fb-3583474e4d6e"
      },
      "execution_count": 20,
      "outputs": [
        {
          "output_type": "execute_result",
          "data": {
            "text/plain": [
              "array(['Pocahontas'], dtype=object)"
            ]
          },
          "metadata": {},
          "execution_count": 20
        }
      ]
    },
    {
      "cell_type": "code",
      "source": [
        "sales['city'] = sales['city'].str.title()\n",
        "sales['city'].unique()"
      ],
      "metadata": {
        "id": "Q8u1cZ_TI_LN",
        "colab": {
          "base_uri": "https://localhost:8080/"
        },
        "outputId": "031542da-4d84-4a5a-a26f-955687b4b06b"
      },
      "execution_count": 21,
      "outputs": [
        {
          "output_type": "execute_result",
          "data": {
            "text/plain": [
              "array(['Pocahontas', 'Laurens', 'Fonda', 'Rolfe'], dtype=object)"
            ]
          },
          "metadata": {},
          "execution_count": 21
        }
      ]
    },
    {
      "cell_type": "code",
      "source": [
        "sales['vendor_name'] = sales['vendor_name'].str.title()\n",
        "sales['vendor_name'].unique()"
      ],
      "metadata": {
        "id": "7LKVx3rBJinJ",
        "colab": {
          "base_uri": "https://localhost:8080/"
        },
        "outputId": "23ee123d-7185-4210-ea17-961f65b9f4b4"
      },
      "execution_count": 22,
      "outputs": [
        {
          "output_type": "execute_result",
          "data": {
            "text/plain": [
              "array(['Pernod Ricard Usa', 'Luxco Inc', 'Castle Brands',\n",
              "       'Ole Smoky Distillery Llc', 'Sazerac Company  Inc',\n",
              "       'E & J Gallo Winery', 'Diageo Americas', 'Skyy Spirits Inc',\n",
              "       'Piedmont Distillers Inc', 'Infinium Spirits', 'Jim Beam Brands',\n",
              "       'Bacardi Usa Inc', 'Heaven Hill Brands', 'Proximo', 'Mhw Ltd',\n",
              "       'Sazerac North America', 'Phillips Beverage',\n",
              "       'Mccormick Distilling Co.', 'Laird & Company',\n",
              "       'Fifth Generation Inc', 'Constellation Brands Inc',\n",
              "       'Edrington Group Usa Llc', 'Western Spirits Beverage',\n",
              "       'Dunkel Corporation', 'Brown Forman Corp.', 'Moet Hennessy Usa',\n",
              "       'Cedar Ridge Vineyards Ll', 'Campari America',\n",
              "       'Prestige Wine & Spirits Group', 'Mast-Jagermeister Us, Inc',\n",
              "       'Disaronno International', 'S&B Farms Distillery',\n",
              "       'Mango Bottling', 'Charles Jacquin Et Cie', 'Oz Spirits Llc',\n",
              "       'Stoli Group', 'Famous Brands',\n",
              "       'Sidney Frank Importing Company, Inc.', 'William Grant & Sons Inc',\n",
              "       'Dunkel Corporation / Iowa Distilling', 'Remy Cointreau Usa Inc',\n",
              "       'Park Street Imports', 'Stoller Imports Inc / Marsalle Company',\n",
              "       'Mississippi River Distil', 'Prost Beverage Company',\n",
              "       'Gemini Spirits', 'Lonely Oak Distillery',\n",
              "       'Hawaii Sea Spirits Llc', 'Four Roses Distillery',\n",
              "       'Duggans Distillers', 'Southwest Spirits & Wine, Llc',\n",
              "       'American Spirits Exchange', 'Dehner Distillery',\n",
              "       'Jdso Inc / Red Boot Distillery', 'Blue Ox Spirits, Inc.',\n",
              "       'Swell Liquor Llc', 'Patron Spirits Company',\n",
              "       'John Ernest Distillery, Inc.', 'Revelton Distilling Company',\n",
              "       'Intercontinental Packaging Company/Prestige Beverage Group',\n",
              "       'Prestige Wine & Spirits Group / United States Distilled Products Co',\n",
              "       'American Vintage Beverage', 'Colorado Gold Distillery',\n",
              "       'Shaw-Ross International', 'Sovereign Brands, Llc',\n",
              "       'Cooper Spirits International', 'J & D Wines Inc / Wooler Brands',\n",
              "       'Jem Beverage Company', 'Sugarlands Distilling Company Llc',\n",
              "       'Tenn South Distillery / Big Machine Distillery'], dtype=object)"
            ]
          },
          "metadata": {},
          "execution_count": 22
        }
      ]
    },
    {
      "cell_type": "markdown",
      "source": [
        "5. Check unique data"
      ],
      "metadata": {
        "id": "78Dc-gXbJ-YI"
      }
    },
    {
      "cell_type": "code",
      "source": [
        "sales['zip_code'].unique()"
      ],
      "metadata": {
        "id": "FPh0Jls9J9ZO",
        "colab": {
          "base_uri": "https://localhost:8080/"
        },
        "outputId": "083ebec9-e36f-4f99-9727-c4199d676df4"
      },
      "execution_count": 23,
      "outputs": [
        {
          "output_type": "execute_result",
          "data": {
            "text/plain": [
              "array(['50574.0', '50554.0', '50540.0', '50581.0'], dtype=object)"
            ]
          },
          "metadata": {},
          "execution_count": 23
        }
      ]
    },
    {
      "cell_type": "code",
      "source": [
        "sales['store_number'].unique()"
      ],
      "metadata": {
        "id": "mlVhEXjWKVdt"
      },
      "execution_count": null,
      "outputs": []
    },
    {
      "cell_type": "code",
      "source": [
        "sales['vendor_number'].unique()"
      ],
      "metadata": {
        "id": "FwCfoi01Kbcl",
        "colab": {
          "base_uri": "https://localhost:8080/"
        },
        "outputId": "e56b9967-9447-4dbe-a945-bdccb679abb7"
      },
      "execution_count": 25,
      "outputs": [
        {
          "output_type": "execute_result",
          "data": {
            "text/plain": [
              "array(['370.0', '434.0', '91.0', '346.0', '421.0', '205.0', '260.0',\n",
              "       '461.0', '384.0', '255.0', '65.0', '35.0', '259.0', '395.0',\n",
              "       '305.0', '55.0', '380.0', '300.0', '297.0', '301.0', '115.0',\n",
              "       '266.0', '492.0', '154.0', '85.0', '420.0', '125.0', '619.0',\n",
              "       '322.0', '192.0', '130.0', '578.0', '308.0', '285.0', '402.0',\n",
              "       '277.0', '565.0', '240.0', '389.0', '368.0', '163.0', '306.0',\n",
              "       '208.0', '330.0', '325.0', '273.0', '184.0', '962.0', '538.0',\n",
              "       '118.0', '229.0', '626.0', '777.0', '195.0', '410.0', '353.0',\n",
              "       '654.0', '772.0', '112.0', '519.0', '460.0', '482.0', '121.0',\n",
              "       '493.0', '521.0', '481.0', '633.0'], dtype=object)"
            ]
          },
          "metadata": {},
          "execution_count": 25
        }
      ]
    },
    {
      "cell_type": "markdown",
      "source": [
        "#Download Cleaned Data to CSV"
      ],
      "metadata": {
        "id": "Lbv36aB1Kk9b"
      }
    },
    {
      "cell_type": "code",
      "source": [
        "sales.to_csv('Liquor Sales Pocahontas cleaned.csv')\n",
        "from google.colab import files\n",
        "files.download('Liquor Sales Pocahontas cleaned.csv')"
      ],
      "metadata": {
        "colab": {
          "base_uri": "https://localhost:8080/",
          "height": 17
        },
        "id": "RAsEBFoOKveA",
        "outputId": "e8cc6605-02d8-4236-8347-19fe9c35c9d2"
      },
      "execution_count": null,
      "outputs": [
        {
          "output_type": "display_data",
          "data": {
            "text/plain": [
              "<IPython.core.display.Javascript object>"
            ],
            "application/javascript": [
              "\n",
              "    async function download(id, filename, size) {\n",
              "      if (!google.colab.kernel.accessAllowed) {\n",
              "        return;\n",
              "      }\n",
              "      const div = document.createElement('div');\n",
              "      const label = document.createElement('label');\n",
              "      label.textContent = `Downloading \"${filename}\": `;\n",
              "      div.appendChild(label);\n",
              "      const progress = document.createElement('progress');\n",
              "      progress.max = size;\n",
              "      div.appendChild(progress);\n",
              "      document.body.appendChild(div);\n",
              "\n",
              "      const buffers = [];\n",
              "      let downloaded = 0;\n",
              "\n",
              "      const channel = await google.colab.kernel.comms.open(id);\n",
              "      // Send a message to notify the kernel that we're ready.\n",
              "      channel.send({})\n",
              "\n",
              "      for await (const message of channel.messages) {\n",
              "        // Send a message to notify the kernel that we're ready.\n",
              "        channel.send({})\n",
              "        if (message.buffers) {\n",
              "          for (const buffer of message.buffers) {\n",
              "            buffers.push(buffer);\n",
              "            downloaded += buffer.byteLength;\n",
              "            progress.value = downloaded;\n",
              "          }\n",
              "        }\n",
              "      }\n",
              "      const blob = new Blob(buffers, {type: 'application/binary'});\n",
              "      const a = document.createElement('a');\n",
              "      a.href = window.URL.createObjectURL(blob);\n",
              "      a.download = filename;\n",
              "      div.appendChild(a);\n",
              "      a.click();\n",
              "      div.remove();\n",
              "    }\n",
              "  "
            ]
          },
          "metadata": {}
        },
        {
          "output_type": "display_data",
          "data": {
            "text/plain": [
              "<IPython.core.display.Javascript object>"
            ],
            "application/javascript": [
              "download(\"download_a89d33a0-397a-435c-8faa-e7723bef78a7\", \"Liquor Sales Pocahontas cleaned.csv\", 2671957)"
            ]
          },
          "metadata": {}
        }
      ]
    },
    {
      "cell_type": "markdown",
      "source": [
        "#Visualize The Data\n",
        "To visualize the data, I'm using Google Data Studio. You can find more information at this link: https://datastudio.google.com/s/lPwkzTSJl7Q"
      ],
      "metadata": {
        "id": "gOeFnwBsxgyG"
      }
    },
    {
      "cell_type": "markdown",
      "source": [
        "#Insight\n",
        "1. Most of our customers are in Pocahontas, we can intensify large promos there.\n",
        "2. Monthly sales are busy on April, we can give special promotions on that day suchas \"April Sale\".\n",
        "3. The number of vendors affects sales in each city. Increase the number of vendors in the other 3 cities.\n",
        "4. Give special promotions to the vendor leaderboard every month."
      ],
      "metadata": {
        "id": "68z6UqVS1A5w"
      }
    }
  ]
}