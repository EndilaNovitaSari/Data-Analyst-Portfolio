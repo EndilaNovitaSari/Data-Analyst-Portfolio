{
  "nbformat": 4,
  "nbformat_minor": 0,
  "metadata": {
    "colab": {
      "name": "Data Visualization with Python Matplotlib ",
      "provenance": [],
      "collapsed_sections": [],
      "authorship_tag": "ABX9TyNn1Fyz/C3CX0d5rTCUWYBO"
    },
    "kernelspec": {
      "name": "python3",
      "display_name": "Python 3"
    },
    "language_info": {
      "name": "python"
    }
  },
  "cells": [
    {
      "cell_type": "markdown",
      "source": [
        "##Pengenalan Dataset"
      ],
      "metadata": {
        "id": "Kumx7oOzt2qy"
      }
    },
    {
      "cell_type": "code",
      "source": [
        "import pandas as pd\n",
        "dataset = pd.read_csv('https://storage.googleapis.com/dqlab-dataset/retail_raw_reduced.csv')\n",
        "print('Ukuran dataset: %d baris dan %d kolom\\n' % dataset.shape)\n",
        "print('Lima data teratas:')\n",
        "print(dataset.head())"
      ],
      "metadata": {
        "id": "DkmvBRfiwKMo"
      },
      "execution_count": null,
      "outputs": []
    },
    {
      "cell_type": "markdown",
      "source": [
        "##Penambahan Kolom Order Month pada Dataset"
      ],
      "metadata": {
        "id": "kX76Sgo7wOUh"
      }
    },
    {
      "cell_type": "code",
      "source": [
        "import pandas as pd\n",
        "import datetime\n",
        "dataset = pd.read_csv('https://storage.googleapis.com/dqlab-dataset/retail_raw_reduced.csv')\n",
        "dataset['order_month'] = dataset['order_date'].apply(lambda x: datetime.datetime.strptime(x, \"%Y-%m-%d\").strftime('%Y-%m'))\n",
        "print(dataset.head())"
      ],
      "metadata": {
        "id": "3XvyQ7FIwSze"
      },
      "execution_count": null,
      "outputs": []
    },
    {
      "cell_type": "markdown",
      "source": [
        "##Penambahan Kolom GMV pada Dataset"
      ],
      "metadata": {
        "id": "AdE2RWHIwffk"
      }
    },
    {
      "cell_type": "code",
      "source": [
        "import pandas as pd\n",
        "import datetime\n",
        "dataset = pd.read_csv('https://storage.googleapis.com/dqlab-dataset/retail_raw_reduced.csv')\n",
        "dataset['order_month'] = dataset['order_date'].apply(lambda x: datetime.datetime.strptime(x, \"%Y-%m-%d\").strftime('%Y-%m'))\n",
        "dataset['gmv'] = dataset['item_price']*dataset['quantity']\n",
        "print('Ukuran dataset: %d baris dan %d kolom\\n' % dataset.shape)\n",
        "print('Lima data teratas:')\n",
        "print(dataset.head())"
      ],
      "metadata": {
        "id": "W11StRWxwpaM"
      },
      "execution_count": null,
      "outputs": []
    },
    {
      "cell_type": "markdown",
      "source": [
        "##Plot Pertama: Membuat Line Chart Trend Pertumbuhan GMV"
      ],
      "metadata": {
        "id": "8YZAhkN8k7in"
      }
    },
    {
      "cell_type": "code",
      "source": [
        "import pandas as pd\n",
        "import datetime\n",
        "import matplotlib.pyplot as plt\n",
        "\n",
        "dataset = pd.read_csv('https://storage.googleapis.com/dqlab-dataset/retail_raw_reduced.csv')\n",
        "dataset['order_month'] = dataset['order_date'].apply(lambda x: datetime.datetime.strptime(x, \"%Y-%m-%d\").strftime('%Y-%m'))\n",
        "dataset['gmv'] = dataset['item_price']*dataset['quantity']\n",
        "\n",
        "monthly_amount = dataset.groupby('order_month')['gmv'].sum().reset_index()\n",
        "\n",
        "plt.plot(monthly_amount['order_month'], monthly_amount['gmv'])\n",
        "plt.show()"
      ],
      "metadata": {
        "id": "KSqpU-8clIn-"
      },
      "execution_count": null,
      "outputs": []
    },
    {
      "cell_type": "markdown",
      "source": [
        "##Membuat Data Agregat"
      ],
      "metadata": {
        "id": "cQ55QBqBw0NE"
      }
    },
    {
      "cell_type": "code",
      "source": [
        "import pandas as pd\n",
        "import datetime\n",
        "dataset = pd.read_csv('https://storage.googleapis.com/dqlab-dataset/retail_raw_reduced.csv')\n",
        "dataset['order_month'] = dataset['order_date'].apply(lambda x: datetime.datetime.strptime(x, \"%Y-%m-%d\").strftime('%Y-%m'))\n",
        "dataset['gmv'] = dataset['item_price']*dataset['quantity']\n",
        "monthly_amount = dataset.groupby('order_month')['gmv'].sum().reset_index()\n",
        "print(monthly_amount)"
      ],
      "metadata": {
        "id": "_7X_d7dFw6NJ"
      },
      "execution_count": null,
      "outputs": []
    },
    {
      "cell_type": "markdown",
      "source": [
        ""
      ],
      "metadata": {
        "id": "Fgfuu_7CxFLp"
      }
    },
    {
      "cell_type": "markdown",
      "source": [
        "##Cara Alternatif: Fungsi .plot() pada pandas Dataframe"
      ],
      "metadata": {
        "id": "rqOHdBDClPl6"
      }
    },
    {
      "cell_type": "code",
      "source": [
        "import pandas as pd\n",
        "import datetime\n",
        "import matplotlib.pyplot as plt\n",
        "\n",
        "dataset = pd.read_csv('https://storage.googleapis.com/dqlab-dataset/retail_raw_reduced.csv')\n",
        "dataset['order_month'] = dataset['order_date'].apply(lambda x: datetime.datetime.strptime(x, \"%Y-%m-%d\").strftime('%Y-%m'))\n",
        "dataset['gmv'] = dataset['item_price']*dataset['quantity']\n",
        "\n",
        "dataset.groupby(['order_month'])['gmv'].sum().plot()\n",
        "plt.show()"
      ],
      "metadata": {
        "id": "53KrzC3TlXk3"
      },
      "execution_count": null,
      "outputs": []
    },
    {
      "cell_type": "markdown",
      "source": [
        "##Mengubah Figure Size"
      ],
      "metadata": {
        "id": "sJBih5vdliTq"
      }
    },
    {
      "cell_type": "code",
      "source": [
        "import pandas as pd\n",
        "import datetime\n",
        "import matplotlib.pyplot as plt\n",
        "\n",
        "dataset = pd.read_csv('https://storage.googleapis.com/dqlab-dataset/retail_raw_reduced.csv')\n",
        "dataset['order_month'] = dataset['order_date'].apply(lambda x: datetime.datetime.strptime(x, \"%Y-%m-%d\").strftime('%Y-%m'))\n",
        "dataset['gmv'] = dataset['item_price']*dataset['quantity']\n",
        "\n",
        "plt.figure(figsize=(15,5))\n",
        "dataset.groupby(['order_month'])['gmv'].sum().plot()\n",
        "plt.show() "
      ],
      "metadata": {
        "id": "fZUSDxpKli1c"
      },
      "execution_count": null,
      "outputs": []
    },
    {
      "cell_type": "markdown",
      "source": [
        "##Menambahkan Title and Axis Labels"
      ],
      "metadata": {
        "id": "e4AMumWflt29"
      }
    },
    {
      "cell_type": "code",
      "source": [
        "import pandas as pd\n",
        "import datetime\n",
        "import matplotlib.pyplot as plt\n",
        "\n",
        "dataset = pd.read_csv('https://storage.googleapis.com/dqlab-dataset/retail_raw_reduced.csv')\n",
        "dataset['order_month'] = dataset['order_date'].apply(lambda x: datetime.datetime.strptime(x, \"%Y-%m-%d\").strftime('%Y-%m'))\n",
        "dataset['gmv'] = dataset['item_price']*dataset['quantity']\n",
        "\n",
        "plt.figure(figsize=(15, 5))\n",
        "dataset.groupby(['order_month'])['gmv'].sum().plot()\n",
        "plt.title('Monthly GMV Year 2019')\n",
        "plt.xlabel('Order Month')\n",
        "plt.ylabel('Total GMV')\n",
        "plt.show()"
      ],
      "metadata": {
        "id": "YP0EPXAalvM0"
      },
      "execution_count": null,
      "outputs": []
    },
    {
      "cell_type": "markdown",
      "source": [
        "##Kustomisasi Title and Axis Labels"
      ],
      "metadata": {
        "id": "NOqV_4LJl0CY"
      }
    },
    {
      "cell_type": "code",
      "source": [
        "import pandas as pd\n",
        "import datetime\n",
        "import matplotlib.pyplot as plt\n",
        "\n",
        "dataset = pd.read_csv('https://storage.googleapis.com/dqlab-dataset/retail_raw_reduced.csv')\n",
        "dataset['order_month'] = dataset['order_date'].apply(lambda x: datetime.datetime.strptime(x, \"%Y-%m-%d\").strftime('%Y-%m'))\n",
        "dataset['gmv'] = dataset['item_price']*dataset['quantity']\n",
        "\n",
        "plt.figure(figsize=(15, 5))\n",
        "dataset.groupby(['order_month'])['gmv'].sum().plot()\n",
        "plt.title('Monthly GMV Year 2019', loc='center', pad=20, fontsize=20, color='blue')\n",
        "plt.xlabel('Order Month', fontsize=15)\n",
        "plt.ylabel('Total Amount', fontsize=15)\n",
        "plt.show()"
      ],
      "metadata": {
        "id": "KTP3D6wtl0ha"
      },
      "execution_count": null,
      "outputs": []
    },
    {
      "cell_type": "markdown",
      "source": [
        "##Kustomisasi Line dan Point\n"
      ],
      "metadata": {
        "id": "d9qIZlmUl9vq"
      }
    },
    {
      "cell_type": "code",
      "source": [
        "import pandas as pd\n",
        "import datetime\n",
        "import matplotlib.pyplot as plt\n",
        "\n",
        "dataset = pd.read_csv('https://storage.googleapis.com/dqlab-dataset/retail_raw_reduced.csv')\n",
        "dataset['order_month'] = dataset['order_date'].apply(lambda x: datetime.datetime.strptime(x, \"%Y-%m-%d\").strftime('%Y-%m'))\n",
        "dataset['gmv'] = dataset['item_price']*dataset['quantity']\n",
        "\n",
        "plt.figure(figsize=(15, 5))\n",
        "dataset.groupby(['order_month'])['gmv'].sum().plot(color='green', marker='o', linestyle='-.', linewidth=2)\n",
        "plt.title('Monthly GMV Year 2019', loc='center', pad=20, fontsize=20, color='blue')\n",
        "plt.xlabel('Order Month', fontsize=15)\n",
        "plt.ylabel('Total Amount', fontsize=15)\n",
        "plt.show()"
      ],
      "metadata": {
        "id": "39BnLrEAl-L1"
      },
      "execution_count": null,
      "outputs": []
    },
    {
      "cell_type": "markdown",
      "source": [
        "##Kustomisasi Grid"
      ],
      "metadata": {
        "id": "5wwVRrqJmYS_"
      }
    },
    {
      "cell_type": "code",
      "source": [
        "import pandas as pd\n",
        "import datetime\n",
        "import matplotlib.pyplot as plt\n",
        "\n",
        "dataset = pd.read_csv('https://storage.googleapis.com/dqlab-dataset/retail_raw_reduced.csv')\n",
        "dataset['order_month'] = dataset['order_date'].apply(lambda x: datetime.datetime.strptime(x, \"%Y-%m-%d\").strftime('%Y-%m'))\n",
        "dataset['gmv'] = dataset['item_price']*dataset['quantity']\n",
        "\n",
        "plt.figure(figsize=(15, 5))\n",
        "dataset.groupby(['order_month'])['gmv'].sum().plot(color='green', marker='o', linestyle='-.', linewidth=2)\n",
        "plt.title('Monthly GMV Year 2019', loc='center', pad=20, fontsize=20, color='blue')\n",
        "plt.xlabel('Order Month', fontsize=15)\n",
        "plt.ylabel('Total Amount', fontsize=15)\n",
        "plt.grid(color='darkgray', linestyle=':', linewidth=0.5)\n",
        "plt.show()"
      ],
      "metadata": {
        "id": "roG6Kx_9mYtP"
      },
      "execution_count": null,
      "outputs": []
    },
    {
      "cell_type": "markdown",
      "source": [
        "##Kustomisasi Axis Ticks"
      ],
      "metadata": {
        "id": "1QCh33iamlTj"
      }
    },
    {
      "cell_type": "code",
      "source": [
        "import pandas as pd\n",
        "import datetime\n",
        "import matplotlib.pyplot as plt\n",
        "\n",
        "dataset = pd.read_csv('https://storage.googleapis.com/dqlab-dataset/retail_raw_reduced.csv')\n",
        "dataset['order_month'] = dataset['order_date'].apply(lambda x: datetime.datetime.strptime(x, \"%Y-%m-%d\").strftime('%Y-%m'))\n",
        "dataset['gmv'] = dataset['item_price']*dataset['quantity']\n",
        "\n",
        "plt.figure(figsize=(15, 5))\n",
        "dataset.groupby(['order_month'])['gmv'].sum().plot(color='green', marker='o', linestyle='-.', linewidth=2)\n",
        "plt.title('Monthly GMV Year 2019', loc='center', pad=20, fontsize=20, color='blue')\n",
        "plt.xlabel('Order Month', fontsize=15)\n",
        "plt.ylabel('Total Amount (in Billions)', fontsize=15)\n",
        "plt.grid(color='darkgray', linestyle=':', linewidth=0.5)\n",
        "labels, locations = plt.yticks()\n",
        "plt.yticks(labels, (labels/1000000000).astype(int))\n",
        "plt.show()"
      ],
      "metadata": {
        "id": "ZSpRjGpomsD5"
      },
      "execution_count": null,
      "outputs": []
    },
    {
      "cell_type": "markdown",
      "source": [
        "## Menentukan Batas Minimum dan Maksimum Axis Ticks"
      ],
      "metadata": {
        "id": "yqCGdM7qm0FB"
      }
    },
    {
      "cell_type": "code",
      "source": [
        "import pandas as pd\n",
        "import datetime\n",
        "import matplotlib.pyplot as plt\n",
        "\n",
        "dataset = pd.read_csv('https://storage.googleapis.com/dqlab-dataset/retail_raw_reduced.csv')\n",
        "dataset['order_month'] = dataset['order_date'].apply(lambda x: datetime.datetime.strptime(x, \"%Y-%m-%d\").strftime('%Y-%m'))\n",
        "dataset['gmv'] = dataset['item_price']*dataset['quantity']\n",
        "\n",
        "plt.figure(figsize=(15, 5))\n",
        "dataset.groupby(['order_month'])['gmv'].sum().plot(color='green', marker='o', linestyle='-.', linewidth=2)\n",
        "plt.title('Monthly GMV Year 2019', loc='center', pad=20, fontsize=20, color='blue')\n",
        "plt.xlabel('Order Month', fontsize=15)\n",
        "plt.ylabel('Total Amount (in Billions)', fontsize=15)\n",
        "plt.grid(color='darkgray', linestyle=':', linewidth=0.5)\n",
        "plt.ylim(ymin=0)\n",
        "labels, locations = plt.yticks()\n",
        "plt.yticks(labels, (labels/1000000000).astype(int))\n",
        "plt.show()"
      ],
      "metadata": {
        "id": "yhuhiNwOm3x_"
      },
      "execution_count": null,
      "outputs": []
    },
    {
      "cell_type": "markdown",
      "source": [
        "##Menambahkan Informasi Pada Plot"
      ],
      "metadata": {
        "id": "suegHC1-v3bA"
      }
    },
    {
      "cell_type": "code",
      "source": [
        "import pandas as pd\n",
        "import datetime\n",
        "import matplotlib.pyplot as plt\n",
        "\n",
        "dataset = pd.read_csv('https://storage.googleapis.com/dqlab-dataset/retail_raw_reduced.csv')\n",
        "dataset['order_month'] = dataset['order_date'].apply(lambda x: datetime.datetime.strptime(x, \"%Y-%m-%d\").strftime('%Y-%m'))\n",
        "dataset['gmv'] = dataset['item_price']*dataset['quantity']\n",
        "\n",
        "fig = plt.figure(figsize=(15, 5))\n",
        "dataset.groupby(['order_month'])['gmv'].sum().plot(color='green', marker='o', linestyle='-.', linewidth=2)\n",
        "plt.title('Monthly GMV Year 2019', loc='center', pad=20, fontsize=20, color='blue')\n",
        "plt.xlabel('Order Month', fontsize=15)\n",
        "plt.ylabel('Total Amount (in Billions)', fontsize=15)\n",
        "plt.grid(color='darkgray', linestyle=':', linewidth=0.5)\n",
        "plt.ylim(ymin=0)\n",
        "labels, locations = plt.yticks()\n",
        "plt.yticks(labels, (labels/1000000000).astype(int))\n",
        "plt.text(0.45, 0.72, 'The GMV increased significantly on October 2019', transform=fig.transFigure, color='red')\n",
        "plt.show()"
      ],
      "metadata": {
        "id": "1RcBjYZ7v-BN"
      },
      "execution_count": null,
      "outputs": []
    },
    {
      "cell_type": "markdown",
      "source": [
        "##Menyimpan Hasil Plot Menjadi File Image"
      ],
      "metadata": {
        "id": "7dpC31wDtoK4"
      }
    },
    {
      "cell_type": "code",
      "source": [
        "import pandas as pd\n",
        "import datetime\n",
        "import matplotlib.pyplot as plt\n",
        "\n",
        "dataset = pd.read_csv('https://storage.googleapis.com/dqlab-dataset/retail_raw_reduced.csv')\n",
        "dataset['order_month'] = dataset['order_date'].apply(lambda x: datetime.datetime.strptime(x, \"%Y-%m-%d\").strftime('%Y-%m'))\n",
        "dataset['gmv'] = dataset['item_price']*dataset['quantity']\n",
        "\n",
        "fig = plt.figure(figsize=(15, 5))\n",
        "dataset.groupby(['order_month'])['gmv'].sum().plot(color='green', marker='o', linestyle='-.', linewidth=2)\n",
        "plt.title('Monthly GMV Year 2019', loc='center', pad=20, fontsize=20, color='blue')\n",
        "plt.xlabel('Order Month', fontsize=15)\n",
        "plt.ylabel('Total Amount (in Billions)', fontsize=15)\n",
        "plt.grid(color='darkgray', linestyle=':', linewidth=0.5)\n",
        "plt.ylim(ymin=0)\n",
        "labels, locations = plt.yticks()\n",
        "plt.yticks(labels, (labels/1000000000).astype(int))\n",
        "plt.text(0.45,0.72, 'The GMV increased significantly on October 2019', transform=fig.transFigure, color='red')\n",
        "plt.savefig('monthly_gmv.png')\n",
        "plt.show()"
      ],
      "metadata": {
        "id": "bWWsjlw9uGZ7"
      },
      "execution_count": null,
      "outputs": []
    },
    {
      "cell_type": "markdown",
      "source": [
        "## Pengaturan Parameter untuk Menyimpan Gambar"
      ],
      "metadata": {
        "id": "Gy__OZyuuOCB"
      }
    },
    {
      "cell_type": "code",
      "source": [
        "import pandas as pd\n",
        "import datetime\n",
        "import matplotlib.pyplot as plt\n",
        "\n",
        "dataset = pd.read_csv('https://storage.googleapis.com/dqlab-dataset/retail_raw_reduced.csv')\n",
        "dataset['order_month'] = dataset['order_date'].apply(lambda x: datetime.datetime.strptime(x, \"%Y-%m-%d\").strftime('%Y-%m'))\n",
        "dataset['gmv'] = dataset['item_price']*dataset['quantity']\n",
        "\n",
        "fig = plt.figure(figsize=(15, 5))\n",
        "dataset.groupby(['order_month'])['gmv'].sum().plot(color='green', marker='o', linestyle='-.', linewidth=2)\n",
        "plt.title('Monthly GMV Year 2019', loc='center', pad=20, fontsize=20, color='blue')\n",
        "plt.xlabel('Order Month', fontsize=15)\n",
        "plt.ylabel('Total Amount (in Billions)', fontsize=15)\n",
        "plt.grid(color='darkgray', linestyle=':', linewidth=0.5)\n",
        "plt.ylim(ymin=0)\n",
        "labels, locations = plt.yticks()\n",
        "plt.yticks(labels, (labels/1000000000).astype(int))\n",
        "plt.text(0.45,0.72, 'The GMV increased significantly on October 2019', transform=fig.transFigure, color='red')\n",
        "plt.savefig('monthly_gmv.png', quality=95)\n",
        "plt.show()"
      ],
      "metadata": {
        "id": "YlJRLoVOuRSW"
      },
      "execution_count": null,
      "outputs": []
    }
  ]
}